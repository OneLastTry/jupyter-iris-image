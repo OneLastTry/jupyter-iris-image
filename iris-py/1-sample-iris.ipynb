{
 "cells": [
  {
   "cell_type": "code",
   "execution_count": null,
   "id": "c6d9ce9a-3942-4f7d-a39f-23bcad8f1c16",
   "metadata": {},
   "outputs": [],
   "source": [
    "# load iris module\n",
    "import irisnative"
   ]
  },
  {
   "cell_type": "code",
   "execution_count": null,
   "id": "30985b2d-0947-450a-83f3-44934dbef153",
   "metadata": {},
   "outputs": [],
   "source": [
    "# connect to iris \n",
    "\n",
    "# change these variables to reflect your connect\n",
    "hostname = \"iris\"\n",
    "port = 1972\n",
    "namespace = \"USER\"\n",
    "username = \"SuperUser\"\n",
    "password = \"sys\"\n",
    "\n",
    "# connect\n",
    "connection = irisnative.createConnection(hostname, port, namespace, username, password, sharedmemory = False)\n",
    "iris = irisnative.createIris(connection)"
   ]
  },
  {
   "cell_type": "code",
   "execution_count": null,
   "id": "0b851b28-26dd-4dd9-ab9f-3fc60f3f7956",
   "metadata": {},
   "outputs": [],
   "source": [
    "# for more on how to use iris module:\n",
    "# https://docs.intersystems.com/iris20222/csp/docbook/Doc.View.cls?KEY=BPYNAT_refapi\n",
    "\n",
    "# print iris version\n",
    "print(iris.getServerVersion())"
   ]
  },
  {
   "cell_type": "code",
   "execution_count": null,
   "id": "954a37fd-1f84-42eb-b55d-480f169d393e",
   "metadata": {},
   "outputs": [],
   "source": [
    "# (this is not recommended, is just to avoid having to create a preloaded IRIS)\n",
    "\n",
    "className = \"User.Person\"\n",
    "\n",
    "# delete class\n",
    "iris.classMethodObject(\"%Dictionary.ClassDefinition\", \"%DeleteId\", className, \"ck\")\n",
    "\n",
    "# create class definition\n",
    "classDef = iris.classMethodObject(\"%Dictionary.ClassDefinition\", \"%New\");\n",
    "classDef.set(\"Name\", className)\n",
    "classDef.set(\"Super\", \"%Persistent\")\n",
    "classDef.invokeVoid(\"%Save\")\n",
    "\n",
    "# create properties \n",
    "propDef = iris.classMethodObject(\"%Dictionary.PropertyDefinition\", \"%New\", className);\n",
    "propDef.set(\"parent\", className)\n",
    "propDef.set(\"Name\", \"PersonName\")\n",
    "propDef.set(\"Type\", \"%String\")\n",
    "propDef.invokeVoid(\"%Save\")\n",
    "\n",
    "propDef = iris.classMethodObject(\"%Dictionary.PropertyDefinition\", \"%New\", className);\n",
    "propDef.set(\"parent\", className)\n",
    "propDef.set(\"Name\", \"PersonAge\")\n",
    "propDef.set(\"Type\", \"%Integer\")\n",
    "propDef.invokeVoid(\"%Save\")\n",
    "\n",
    "# compile class\n",
    "iris.classMethodObject(\"%SYSTEM.OBJ\", \"Compile\", className ,\"ck\")"
   ]
  },
  {
   "cell_type": "code",
   "execution_count": null,
   "id": "dec734dd-6a39-456f-8c8c-aa138b1ece92",
   "metadata": {},
   "outputs": [],
   "source": [
    "# create new record\n",
    "person = iris.classMethodObject(className, \"%New\");\n",
    "person.set(\"PersonName\", \"John Smith\")\n",
    "person.set(\"PersonAge\", 35)\n",
    "person.invokeVoid(\"%Save\")\n",
    "\n",
    "# create new record\n",
    "person = iris.classMethodObject(className, \"%New\");\n",
    "person.set(\"PersonName\", \"Mary Smith\")\n",
    "person.set(\"PersonAge\", 37)\n",
    "person.invokeVoid(\"%Save\")"
   ]
  },
  {
   "cell_type": "code",
   "execution_count": null,
   "id": "2c426c83-b574-4342-90ad-9b1eb9e5eef1",
   "metadata": {},
   "outputs": [],
   "source": [
    "# access object data\n",
    "def introduce(personId):\n",
    "    person = iris.classMethodObject(className, \"%OpenId\", personId);\n",
    "    print(\"Hi, I'm {:} and I'm {:} years old\".format(person.get(\"PersonName\"), person.get(\"PersonAge\")))"
   ]
  },
  {
   "cell_type": "code",
   "execution_count": null,
   "id": "c1327df2-782e-4310-96b3-01eed65a0e45",
   "metadata": {},
   "outputs": [],
   "source": [
    "introduce(1)"
   ]
  },
  {
   "cell_type": "code",
   "execution_count": null,
   "id": "75b2f4a8-08bf-44ef-94da-1efc54be2430",
   "metadata": {},
   "outputs": [],
   "source": [
    "introduce(2)"
   ]
  }
 ],
 "metadata": {
  "kernelspec": {
   "display_name": "Python 3 (ipykernel)",
   "language": "python",
   "name": "python3"
  },
  "language_info": {
   "codemirror_mode": {
    "name": "ipython",
    "version": 3
   },
   "file_extension": ".py",
   "mimetype": "text/x-python",
   "name": "python",
   "nbconvert_exporter": "python",
   "pygments_lexer": "ipython3",
   "version": "3.10.6"
  }
 },
 "nbformat": 4,
 "nbformat_minor": 5
}
