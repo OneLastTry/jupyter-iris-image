{
 "cells": [
  {
   "cell_type": "code",
   "execution_count": null,
   "id": "c6d9ce9a-3942-4f7d-a39f-23bcad8f1c16",
   "metadata": {},
   "outputs": [],
   "source": [
    "# load iris module\n",
    "import iris\n",
    "import pandas as pd\n",
    "import warnings\n",
    "\n",
    "warnings.simplefilter(\"ignore\")"
   ]
  },
  {
   "cell_type": "code",
   "execution_count": null,
   "id": "30985b2d-0947-450a-83f3-44934dbef153",
   "metadata": {},
   "outputs": [],
   "source": [
    "# connect to iris \n",
    "\n",
    "# change these variables to reflect your connection\n",
    "hostname = \"iris\"\n",
    "port = 1972\n",
    "namespace = \"USER\"\n",
    "username = \"SuperUser\"\n",
    "password = \"sys\"\n",
    "\n",
    "# connect\n",
    "connection = iris.connect(\"{:}:{:}/{:}\".format(hostname, port, namespace), username, password)"
   ]
  },
  {
   "cell_type": "code",
   "execution_count": null,
   "id": "954a37fd-1f84-42eb-b55d-480f169d393e",
   "metadata": {},
   "outputs": [],
   "source": [
    "def run_query(sql):\n",
    "    return pd.read_sql_query(sql, connection, dtype = None)"
   ]
  },
  {
   "cell_type": "code",
   "execution_count": null,
   "id": "bdb77c36-a277-4486-bd2d-ecbf1efd2b18",
   "metadata": {},
   "outputs": [],
   "source": [
    "sql = \"SELECT PersonName, PersonAge FROM SQLUser.Person\"\n",
    "run_query(sql)"
   ]
  },
  {
   "cell_type": "code",
   "execution_count": null,
   "id": "5791b5dc-b44d-4179-8196-32ec9c2fe53b",
   "metadata": {},
   "outputs": [],
   "source": [
    "sql = \"SELECT PersonName, PersonAge FROM SQLUser.Person WHERE ID = 1\"\n",
    "run_query(sql)"
   ]
  },
  {
   "cell_type": "code",
   "execution_count": null,
   "id": "d329a774-7512-4cfc-bd73-a5c62c957ee0",
   "metadata": {},
   "outputs": [],
   "source": []
  }
 ],
 "metadata": {
  "kernelspec": {
   "display_name": "Python 3 (ipykernel)",
   "language": "python",
   "name": "python3"
  },
  "language_info": {
   "codemirror_mode": {
    "name": "ipython",
    "version": 3
   },
   "file_extension": ".py",
   "mimetype": "text/x-python",
   "name": "python",
   "nbconvert_exporter": "python",
   "pygments_lexer": "ipython3",
   "version": "3.10.6"
  }
 },
 "nbformat": 4,
 "nbformat_minor": 5
}
